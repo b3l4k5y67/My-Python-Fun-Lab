{
 "cells": [
  {
   "cell_type": "code",
   "execution_count": 1,
   "metadata": {},
   "outputs": [],
   "source": [
    "%matplotlib inline\n",
    "import numpy as np\n",
    "import matplotlib.pyplot as plt\n",
    "from ipywidgets import interact"
   ]
  },
  {
   "cell_type": "markdown",
   "metadata": {},
   "source": [
    "##### 本作業設計一loss function(已知其全域最小值)，以loss之斜率作為評判是否停止進行epoch之標準，以找到該Loss的(近似)最佳位置\n",
    "$$Loss=(x-1)*(x+2)^2*(x-4)，min Loss point=(2.921,-50.194)$$"
   ]
  },
  {
   "cell_type": "code",
   "execution_count": 2,
   "metadata": {},
   "outputs": [],
   "source": [
    "#loss function\n",
    "def lossfunc(x):\n",
    "    y = (x-1)*((x+2)**2)*(x-4)\n",
    "    return  y\n",
    "\n",
    "#Loss對x 微分\n",
    "def delossfunction(x):\n",
    "    y = 4*(x**3)-3*(x**2)-(24*x)-4\n",
    "    return  y"
   ]
  },
  {
   "cell_type": "code",
   "execution_count": 3,
   "metadata": {},
   "outputs": [],
   "source": [
    "def grad(lr = 0.001,slopeCriteria=0.1):\n",
    "    randInitPoint = np.random.randint(0,450)*0.01 #隨機起始點從0~4.5\n",
    "    \n",
    "    hisOfx = []\n",
    "    hisOfx.append(randInitPoint)\n",
    "    \n",
    "    nowPoint = randInitPoint\n",
    "    \n",
    "    epoch = 0\n",
    "    slope = delossfunction(randInitPoint)\n",
    "    grad = -delossfunction(randInitPoint)*lr\n",
    "    \n",
    "    while(abs(slope)>slopeCriteria):\n",
    "        \n",
    "        nowPoint += grad\n",
    "        slope = delossfunction(nowPoint)\n",
    "        grad = -delossfunction(nowPoint)*lr\n",
    "        hisOfx.append(nowPoint)\n",
    "        epoch += 1\n",
    "        \n",
    "    print(f'num of used epoch:{epoch}')\n",
    "    \n",
    "    plotX = np.linspace(-1,4.5,1000)\n",
    "    plt.plot(plotX,lossfunc(plotX))\n",
    "    plt.scatter(hisOfx,list(map(lossfunc,hisOfx)), c='r')\n",
    "    \n",
    "    finalPoint = nowPoint\n",
    "    \n",
    "    return finalPoint"
   ]
  },
  {
   "cell_type": "code",
   "execution_count": 4,
   "metadata": {},
   "outputs": [
    {
     "name": "stdout",
     "output_type": "stream",
     "text": [
      "num of used epoch:361\n"
     ]
    },
    {
     "data": {
      "image/png": "[encoded data removed]",
      "text/plain": [
       "<Figure size 432x288 with 1 Axes>"
      ]
     },
     "metadata": {},
     "output_type": "display_data"
    }
   ],
   "source": [
    "result = grad(lr = 0.001,slopeCriteria=0.000001) # finalPoint"
   ]
  },
  {
   "cell_type": "code",
   "execution_count": 5,
   "metadata": {},
   "outputs": [
    {
     "name": "stdout",
     "output_type": "stream",
     "text": [
      "Slope Of Final Point:-9.821340540838719e-07\n"
     ]
    }
   ],
   "source": [
    "slopeOfFinalPoint = delossfunction(result)\n",
    "print(f'Slope Of Final Point:{slopeOfFinalPoint}')"
   ]
  },
  {
   "cell_type": "code",
   "execution_count": 6,
   "metadata": {},
   "outputs": [
    {
     "name": "stdout",
     "output_type": "stream",
     "text": [
      "Loss Of Final Point:(2.9211645934720614, -50.194432303567496)\n"
     ]
    }
   ],
   "source": [
    "LossOfFinalPoint = lossfunc(result)\n",
    "print(f'Loss Of Final Point:{result,LossOfFinalPoint}')"
   ]
  },
  {
   "cell_type": "markdown",
   "metadata": {},
   "source": [
    "#### 結果:由grad計算出最低Loss，與已知的min Loss非常相近"
   ]
  }
 ],
 "metadata": {
  "kernelspec": {
   "display_name": "Python 3",
   "language": "python",
   "name": "python3"
  },
  "language_info": {
   "codemirror_mode": {
    "name": "ipython",
    "version": 3
   },
   "file_extension": ".py",
   "mimetype": "text/x-python",
   "name": "python",
   "nbconvert_exporter": "python",
   "pygments_lexer": "ipython3",
   "version": "3.6.5"
  }
 },
 "nbformat": 4,
 "nbformat_minor": 2
}
