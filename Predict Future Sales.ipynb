{
 "cells": [
  {
   "cell_type": "markdown",
   "metadata": {},
   "source": [
    "# 題目名稱:預測指定商店特定商品之下個月銷售量"
   ]
  },
  {
   "cell_type": "markdown",
   "metadata": {},
   "source": [
    "## 組名:銷售預測界SHE"
   ]
  },
  {
   "cell_type": "markdown",
   "metadata": {},
   "source": [
    "組員:\n",
    "* R07546016 張雯婷\n",
    "* R07546014 陳柔君\n",
    "* R07546001 邱諭宣"
   ]
  },
  {
   "cell_type": "markdown",
   "metadata": {},
   "source": [
    "### 題目簡介:\n",
    "######    店家在進行商品叫貨的時候，常會猶豫不同商品這個月要批多少，尤其在該商品不能久放的時候這問題會更加嚴重。\n",
    "######    故本題目藉由kaggle上的資料，藉此預測指定商店特定商品之下個月銷售量，以便店家在批貨的時候能夠有一個判斷的準則，進一步也可以透過此結果，預測該店家下個月的營業額，\n",
    "    本資料集內容敘述如下:\n",
    "    \n",
    "* Data fields\n",
    "* ID - an Id that represents a (Shop, Item) tuple within the test set\n",
    "* shop_id - unique identifier of a shop\n",
    "* item_id - unique identifier of a product\n",
    "* item_category_id - unique identifier of item category\n",
    "* item_cnt_day - number of products sold. You are predicting a monthly amount of this measure\n",
    "* item_price - current price of an item\n",
    "* date - date in format dd/mm/yyyy\n",
    "* date_block_num - a consecutive month number, used for convenience. January 2013 is 0, February 2013 is 1,..., October 2015 is 33\n",
    "* item_name - name of item\n",
    "* shop_name - name of shop\n",
    "* item_category_name - name of item category"
   ]
  },
  {
   "cell_type": "markdown",
   "metadata": {},
   "source": [
    "### 實作說明:\n",
    "    1.input data:\n",
    "        每個row代表特定商店之指定商品一個月的每日銷售數量(在此將每個月皆預設為31天)。\n",
    "        而商品及店家的排列組合共有424124個，故input data為 424124 x 31 。\n",
    "    2.output data:\n",
    "        資料中一個row代表該row對應在input data中該row的該店之指定商品在下個月的銷售量。\n",
    "    3.最後僅需要給予模型我們所要預測的商店之商品在該月的每日銷售量，就可以預測下個月該商品的銷售量。"
   ]
  },
  {
   "cell_type": "markdown",
   "metadata": {},
   "source": [
    "### 進度規劃:\n",
    "* now - 5/24 資料前處理完畢\n",
    "* 5/24 - 5/31 訓練模型並進行調整\n",
    "* 5/31 - 6/2 改善模型並統整專案所遇到問題及解決方式\n",
    "* 6/2 - 6/5 撰寫期末專案所需文稿"
   ]
  },
  {
   "cell_type": "markdown",
   "metadata": {},
   "source": [
    "### 目前進度:\n",
    "    正在對資料進行前處理，約略已完成70%"
   ]
  },
  {
   "cell_type": "code",
   "execution_count": null,
   "metadata": {},
   "outputs": [],
   "source": []
  }
 ],
 "metadata": {
  "kernelspec": {
   "display_name": "Python 3",
   "language": "python",
   "name": "python3"
  },
  "language_info": {
   "codemirror_mode": {
    "name": "ipython",
    "version": 3
   },
   "file_extension": ".py",
   "mimetype": "text/x-python",
   "name": "python",
   "nbconvert_exporter": "python",
   "pygments_lexer": "ipython3",
   "version": "3.6.5"
  }
 },
 "nbformat": 4,
 "nbformat_minor": 2
}
