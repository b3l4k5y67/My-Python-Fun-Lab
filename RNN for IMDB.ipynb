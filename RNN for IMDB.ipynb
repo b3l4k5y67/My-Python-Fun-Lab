{
 "cells": [
  {
   "cell_type": "code",
   "execution_count": 1,
   "metadata": {},
   "outputs": [
    {
     "name": "stdout",
     "output_type": "stream",
     "text": [
      "env: KERAS_BACKEND=tensorflow\n"
     ]
    }
   ],
   "source": [
    "%env KERAS_BACKEND=tensorflow"
   ]
  },
  {
   "cell_type": "code",
   "execution_count": 2,
   "metadata": {},
   "outputs": [
    {
     "name": "stderr",
     "output_type": "stream",
     "text": [
      "Using TensorFlow backend.\n",
      "C:\\Users\\User\\Anaconda3\\lib\\site-packages\\h5py\\__init__.py:36: FutureWarning: Conversion of the second argument of issubdtype from `float` to `np.floating` is deprecated. In future, it will be treated as `np.float64 == np.dtype(float).type`.\n",
      "  from ._conv import register_converters as _register_converters\n"
     ]
    }
   ],
   "source": [
    "%matplotlib inline\n",
    "\n",
    "import numpy as np\n",
    "import matplotlib.pyplot as plt\n",
    "\n",
    "\n",
    "from keras.datasets import imdb"
   ]
  },
  {
   "cell_type": "code",
   "execution_count": 3,
   "metadata": {},
   "outputs": [],
   "source": [
    "(x_train, y_train), (x_test, y_test) = imdb.load_data(num_words=10000)"
   ]
  },
  {
   "cell_type": "code",
   "execution_count": 4,
   "metadata": {},
   "outputs": [
    {
     "name": "stdout",
     "output_type": "stream",
     "text": [
      "訓練集資料量: 25000\n",
      "測試集資料量: 25000\n"
     ]
    }
   ],
   "source": [
    "print('訓練集資料量:', len(x_train))\n",
    "print('測試集資料量:', len(x_test))"
   ]
  },
  {
   "cell_type": "code",
   "execution_count": 5,
   "metadata": {},
   "outputs": [
    {
     "data": {
      "text/plain": [
       "[1,\n",
       " 717,\n",
       " 2,\n",
       " 1184,\n",
       " 2016,\n",
       " 47,\n",
       " 285,\n",
       " 4,\n",
       " 927,\n",
       " 100,\n",
       " 216,\n",
       " 56,\n",
       " 19,\n",
       " 39,\n",
       " 4,\n",
       " 4748,\n",
       " 2,\n",
       " 325,\n",
       " 8,\n",
       " 4,\n",
       " 178,\n",
       " 3286,\n",
       " 325,\n",
       " 4,\n",
       " 87,\n",
       " 298,\n",
       " 1263,\n",
       " 2614,\n",
       " 3698,\n",
       " 11,\n",
       " 94,\n",
       " 2,\n",
       " 4520,\n",
       " 1422,\n",
       " 8635,\n",
       " 868,\n",
       " 4312,\n",
       " 2,\n",
       " 5,\n",
       " 6,\n",
       " 1619,\n",
       " 2582,\n",
       " 43,\n",
       " 54,\n",
       " 25,\n",
       " 197,\n",
       " 4,\n",
       " 114,\n",
       " 426,\n",
       " 79,\n",
       " 101,\n",
       " 2,\n",
       " 12,\n",
       " 127,\n",
       " 45,\n",
       " 2000,\n",
       " 623,\n",
       " 3028,\n",
       " 11,\n",
       " 3850,\n",
       " 2,\n",
       " 109,\n",
       " 133,\n",
       " 446,\n",
       " 2247,\n",
       " 2151,\n",
       " 24,\n",
       " 2,\n",
       " 198,\n",
       " 4,\n",
       " 217,\n",
       " 59,\n",
       " 4203,\n",
       " 9,\n",
       " 3748,\n",
       " 448,\n",
       " 23,\n",
       " 4,\n",
       " 611,\n",
       " 7,\n",
       " 4,\n",
       " 2839,\n",
       " 6575,\n",
       " 2,\n",
       " 37,\n",
       " 16,\n",
       " 4,\n",
       " 4727,\n",
       " 7,\n",
       " 4,\n",
       " 711,\n",
       " 7,\n",
       " 2,\n",
       " 5,\n",
       " 2164,\n",
       " 6,\n",
       " 2634,\n",
       " 54,\n",
       " 29,\n",
       " 520,\n",
       " 41,\n",
       " 4,\n",
       " 6630,\n",
       " 2,\n",
       " 59,\n",
       " 122,\n",
       " 1090,\n",
       " 8,\n",
       " 4,\n",
       " 298,\n",
       " 1263,\n",
       " 50,\n",
       " 9,\n",
       " 6,\n",
       " 513,\n",
       " 11,\n",
       " 9455,\n",
       " 446,\n",
       " 2,\n",
       " 121,\n",
       " 59,\n",
       " 2,\n",
       " 448,\n",
       " 23,\n",
       " 4,\n",
       " 1379,\n",
       " 192,\n",
       " 15,\n",
       " 6575,\n",
       " 2,\n",
       " 122,\n",
       " 837,\n",
       " 4,\n",
       " 217,\n",
       " 7,\n",
       " 2,\n",
       " 50,\n",
       " 2,\n",
       " 2,\n",
       " 5,\n",
       " 4,\n",
       " 1766,\n",
       " 2,\n",
       " 37,\n",
       " 809,\n",
       " 467,\n",
       " 41,\n",
       " 5759,\n",
       " 26,\n",
       " 24,\n",
       " 4822,\n",
       " 1863,\n",
       " 885,\n",
       " 13,\n",
       " 2237,\n",
       " 9,\n",
       " 4,\n",
       " 1619,\n",
       " 1567,\n",
       " 132,\n",
       " 19,\n",
       " 4,\n",
       " 4536,\n",
       " 1191,\n",
       " 21,\n",
       " 12,\n",
       " 9,\n",
       " 31,\n",
       " 7,\n",
       " 61,\n",
       " 514,\n",
       " 32,\n",
       " 58,\n",
       " 1250,\n",
       " 2239,\n",
       " 5,\n",
       " 2,\n",
       " 9,\n",
       " 2,\n",
       " 307,\n",
       " 469]"
      ]
     },
     "execution_count": 5,
     "metadata": {},
     "output_type": "execute_result"
    }
   ],
   "source": [
    "x_train[438]"
   ]
  },
  {
   "cell_type": "code",
   "execution_count": 6,
   "metadata": {},
   "outputs": [
    {
     "name": "stdout",
     "output_type": "stream",
     "text": [
      "第438筆訓練資料字數: 181\n",
      "第7633筆訓練資料字數: 266\n"
     ]
    }
   ],
   "source": [
    "print('第438筆訓練資料字數:',len(x_train[438]))\n",
    "print('第7633筆訓練資料字數:',len(x_train[7633]))"
   ]
  },
  {
   "cell_type": "code",
   "execution_count": 7,
   "metadata": {},
   "outputs": [
    {
     "name": "stdout",
     "output_type": "stream",
     "text": [
      "第438筆訓練資料是: 正評\n",
      "第7633筆訓練資料是: 負評\n"
     ]
    }
   ],
   "source": [
    "print('第438筆訓練資料是:',\"正評\" if y_train[438] else \"負評\")\n",
    "print('第7633筆訓練資料是:',\"正評\" if y_train[7633] else \"負評\")"
   ]
  },
  {
   "cell_type": "code",
   "execution_count": 8,
   "metadata": {},
   "outputs": [],
   "source": [
    "from keras.preprocessing import sequence"
   ]
  },
  {
   "cell_type": "code",
   "execution_count": 9,
   "metadata": {},
   "outputs": [],
   "source": [
    "x_train = sequence.pad_sequences(x_train, maxlen=350)\n",
    "x_test = sequence.pad_sequences(x_test, maxlen=350)"
   ]
  },
  {
   "cell_type": "code",
   "execution_count": 10,
   "metadata": {},
   "outputs": [
    {
     "data": {
      "text/plain": [
       "(25000, 350)"
      ]
     },
     "execution_count": 10,
     "metadata": {},
     "output_type": "execute_result"
    }
   ],
   "source": [
    "x_train.shape"
   ]
  },
  {
   "cell_type": "code",
   "execution_count": 11,
   "metadata": {},
   "outputs": [],
   "source": [
    "N = 500 # 壓到N維度\n",
    "K = 30 # LSTM神經元數量"
   ]
  },
  {
   "cell_type": "code",
   "execution_count": 12,
   "metadata": {},
   "outputs": [],
   "source": [
    "from keras.models import Sequential\n",
    "from keras.layers import Dense, Embedding, Dropout\n",
    "from keras.layers import LSTM\n",
    "from keras.optimizers import Adam"
   ]
  },
  {
   "cell_type": "code",
   "execution_count": 13,
   "metadata": {},
   "outputs": [
    {
     "name": "stdout",
     "output_type": "stream",
     "text": [
      "WARNING:tensorflow:From C:\\Users\\User\\Anaconda3\\lib\\site-packages\\keras\\backend\\tensorflow_backend.py:1044: calling reduce_sum (from tensorflow.python.ops.math_ops) with keep_dims is deprecated and will be removed in a future version.\n",
      "Instructions for updating:\n",
      "keep_dims is deprecated, use keepdims instead\n",
      "_________________________________________________________________\n",
      "Layer (type)                 Output Shape              Param #   \n",
      "=================================================================\n",
      "embedding_1 (Embedding)      (None, None, 500)         5000000   \n",
      "_________________________________________________________________\n",
      "dropout_1 (Dropout)          (None, None, 500)         0         \n",
      "_________________________________________________________________\n",
      "lstm_1 (LSTM)                (None, 30)                63720     \n",
      "_________________________________________________________________\n",
      "dropout_2 (Dropout)          (None, 30)                0         \n",
      "_________________________________________________________________\n",
      "dense_1 (Dense)              (None, 1)                 31        \n",
      "=================================================================\n",
      "Total params: 5,063,751.0\n",
      "Trainable params: 5,063,751.0\n",
      "Non-trainable params: 0.0\n",
      "_________________________________________________________________\n"
     ]
    }
   ],
   "source": [
    "model = Sequential()\n",
    "model.add(Embedding(10000, N))\n",
    "model.add(Dropout(0.35))\n",
    "model.add(LSTM(K))\n",
    "model.add(Dropout(0.25))\n",
    "model.add(Dense(1, activation='sigmoid'))\n",
    "\n",
    "model.summary()"
   ]
  },
  {
   "cell_type": "code",
   "execution_count": 14,
   "metadata": {},
   "outputs": [
    {
     "name": "stdout",
     "output_type": "stream",
     "text": [
      "WARNING:tensorflow:From C:\\Users\\User\\Anaconda3\\lib\\site-packages\\keras\\backend\\tensorflow_backend.py:1123: calling reduce_mean (from tensorflow.python.ops.math_ops) with keep_dims is deprecated and will be removed in a future version.\n",
      "Instructions for updating:\n",
      "keep_dims is deprecated, use keepdims instead\n"
     ]
    }
   ],
   "source": [
    "model.compile(loss='binary_crossentropy',\n",
    "             optimizer=Adam(),\n",
    "             metrics=['accuracy'])"
   ]
  },
  {
   "cell_type": "code",
   "execution_count": 15,
   "metadata": {},
   "outputs": [
    {
     "name": "stdout",
     "output_type": "stream",
     "text": [
      "Train on 25000 samples, validate on 25000 samples\n",
      "Epoch 1/5\n",
      "25000/25000 [==============================] - 508s - loss: 0.4105 - acc: 0.8083 - val_loss: 0.3380 - val_acc: 0.8554\n",
      "Epoch 2/5\n",
      "25000/25000 [==============================] - 498s - loss: 0.2390 - acc: 0.9094 - val_loss: 0.3042 - val_acc: 0.8825\n",
      "Epoch 3/5\n",
      "25000/25000 [==============================] - 501s - loss: 0.1840 - acc: 0.9314 - val_loss: 0.3750 - val_acc: 0.8538\n",
      "Epoch 4/5\n",
      "25000/25000 [==============================] - 499s - loss: 0.1490 - acc: 0.9464 - val_loss: 0.3480 - val_acc: 0.8705\n",
      "Epoch 5/5\n",
      "25000/25000 [==============================] - 498s - loss: 0.1037 - acc: 0.9650 - val_loss: 0.4042 - val_acc: 0.8740\n"
     ]
    }
   ],
   "source": [
    "model_his = model.fit(x_train, y_train,\n",
    "            batch_size=50,\n",
    "            epochs=5,\n",
    "            validation_data = (x_test,y_test))"
   ]
  },
  {
   "cell_type": "code",
   "execution_count": 16,
   "metadata": {},
   "outputs": [
    {
     "name": "stdout",
     "output_type": "stream",
     "text": [
      "25000/25000 [==============================] - 104s   \n",
      "\n",
      "-----------結果如下-----------\n",
      "loss:0.40421361731052396\n",
      "正確率:0.874\n"
     ]
    }
   ],
   "source": [
    "score = model.evaluate(x_test, y_test)\n",
    "print('\\n-----------結果如下-----------')\n",
    "print(f'loss:{score[0]}')\n",
    "print(f'正確率:{score[1]}')"
   ]
  },
  {
   "cell_type": "code",
   "execution_count": 17,
   "metadata": {},
   "outputs": [
    {
     "data": {
      "text/plain": [
       "<function matplotlib.pyplot.show(*args, **kw)>"
      ]
     },
     "execution_count": 17,
     "metadata": {},
     "output_type": "execute_result"
    },
    {
     "data": {
      "image/png": "[encoded data removed]",
      "text/plain": [
       "<Figure size 432x288 with 1 Axes>"
      ]
     },
     "metadata": {},
     "output_type": "display_data"
    }
   ],
   "source": [
    "plt.plot(model_his.history['acc'])\n",
    "plt.title('model training accuracy')\n",
    "plt.ylabel('accuracy')\n",
    "plt.xlabel('epoch')\n",
    "plt.legend([\"my_model\"],loc = \"best\")\n",
    "plt.show"
   ]
  },
  {
   "cell_type": "code",
   "execution_count": null,
   "metadata": {},
   "outputs": [],
   "source": []
  }
 ],
 "metadata": {
  "kernelspec": {
   "display_name": "Python 3",
   "language": "python",
   "name": "python3"
  },
  "language_info": {
   "codemirror_mode": {
    "name": "ipython",
    "version": 3
   },
   "file_extension": ".py",
   "mimetype": "text/x-python",
   "name": "python",
   "nbconvert_exporter": "python",
   "pygments_lexer": "ipython3",
   "version": "3.6.5"
  }
 },
 "nbformat": 4,
 "nbformat_minor": 2
}
