{
 "cells": [
  {
   "cell_type": "markdown",
   "metadata": {},
   "source": [
    "# Python機器學習與深度學習入門 - 期中專案\n",
    "##### 本學期有修讀另一門統計相關課程，課程中提及Binomial、gamma、負二項分配，分別為Bernoulli、指數、幾何分配的相加，\n",
    "##### 故當Binomial、gamma、負二項分配的n越大，代表相加的分配數量越多，基於中央極限定理，皆會越來越接近常態分佈。\n",
    "##### 基於對於統計的興趣及可望求證的好奇心，想藉由python中的scipy.stats及 interact套件，驗證並可視化此理論。"
   ]
  },
  {
   "cell_type": "code",
   "execution_count": 1,
   "metadata": {},
   "outputs": [],
   "source": [
    "%matplotlib inline\n",
    "import numpy as np\n",
    "import matplotlib.pyplot as plt\n",
    "import pandas as pd\n",
    "from ipywidgets import interact\n",
    "from scipy.stats import norm,binom,bernoulli, gamma,nbinom"
   ]
  },
  {
   "cell_type": "markdown",
   "metadata": {},
   "source": [
    "## 1.Binomial的n越大，越近似常態分配驗證\n",
    "#### Binomial中的每一次試驗都是一次Bernoulli，故n大於1的Binomial是多個Bernoulli相加。"
   ]
  },
  {
   "cell_type": "code",
   "execution_count": 2,
   "metadata": {},
   "outputs": [],
   "source": [
    "def binomialToNormal(numOfTrials=1,p_success=0.3):\n",
    "    n = numOfTrials\n",
    "    p = p_success\n",
    "    k = np.arange(int((n*p)*0.06),int((n*p)*2.5)+5)\n",
    "    binomial = binom.pmf(k,n,p)\n",
    "    \n",
    "    k_continuous = np.linspace(int((n*p)*0.06),int((n*p)*2.5)+5,1000)\n",
    "    \n",
    "    #normal的參數mean及std，用binomial得知的參數值進行moment estimate去推估\n",
    "    normal = norm.pdf(k_continuous,loc = n*p , scale = np.sqrt(n*p*(1-p)) )\n",
    "    \n",
    "    plt.plot(k,binomial, '-o',color='orange', label='Binomial')\n",
    "    \n",
    "    plt.fill_between(k_continuous,normal,facecolor='blue',alpha = 0.3, label='Normal')\n",
    "    \n",
    "    plt.title(f'Binomial(n={n},p={p}) vs Normal(mean={np.round(n*p,2)},var={np.round(n*p*(1-p),2)})')\n",
    "    plt.legend(loc='upper right')\n",
    "    plt.xlabel('num of successes')\n",
    "    plt.ylabel('probability')\n",
    "    plt.show()"
   ]
  },
  {
   "cell_type": "markdown",
   "metadata": {},
   "source": [
    "#### 因中央極限定理，當n越大(累加越多Bernoulli)，Binomial分配越近似常態。"
   ]
  },
  {
   "cell_type": "code",
   "execution_count": 3,
   "metadata": {},
   "outputs": [
    {
     "data": {
      "application/vnd.jupyter.widget-view+json": {
       "model_id": "01c19aef2d0a48488d3afe806adb692d",
       "version_major": 2,
       "version_minor": 0
      },
      "text/plain": [
       "interactive(children=(IntSlider(value=1, description='numOfTrials', min=1), FloatSlider(value=0.3, description…"
      ]
     },
     "metadata": {},
     "output_type": "display_data"
    },
    {
     "data": {
      "text/plain": [
       "<function __main__.binomialToNormal(numOfTrials=1, p_success=0.3)>"
      ]
     },
     "execution_count": 3,
     "metadata": {},
     "output_type": "execute_result"
    }
   ],
   "source": [
    "interact(binomialToNormal,numOfTrials = (1,100),p_success = (0.1,0.9,0.1) )"
   ]
  },
  {
   "cell_type": "markdown",
   "metadata": {},
   "source": [
    "## 2.Gamma的n越大，越近似常態分配驗證\n",
    "#### Gamma中的每一次試驗都是一次指數分配，故n大於1的Gamma是多個指數分配相加。"
   ]
  },
  {
   "cell_type": "code",
   "execution_count": 4,
   "metadata": {},
   "outputs": [],
   "source": [
    "def gammaToNormal(nn=1):\n",
    "    n = nn #n為欲相加的指數分配數量\n",
    "    theAlpha = nn\n",
    "    theBeta = 2\n",
    "    \n",
    "    k_continuous = np.linspace(int((theAlpha*theBeta)*0.06),int((theAlpha*theBeta)*2.5)+5,1000)\n",
    "    \n",
    "    Gamma = gamma.pdf(k_continuous,a=theAlpha, scale=theBeta)\n",
    "    \n",
    "    #normal的參數mean及std，用 gammal得知的參數值進行moment estimate去推估\n",
    "    normal = norm.pdf(k_continuous,loc = (theAlpha*theBeta) , scale = np.sqrt(theAlpha*(theBeta**2)))\n",
    "    \n",
    "    plt.plot(k_continuous,Gamma, '-.',color='orange', label='Gamma')\n",
    "    \n",
    "    plt.fill_between(k_continuous,normal,facecolor='blue',alpha = 0.3, label='Normal')\n",
    "    \n",
    "    plt.title(f'Gamma(alpha={theAlpha},beta={theBeta}) vs Normal(mean={np.round(theAlpha*theBeta,2)},var={np.round(theAlpha*(theBeta**2),2)})')\n",
    "    plt.legend(loc='upper right')\n",
    "    plt.xlabel('x')\n",
    "    plt.ylabel('probability density')\n",
    "    plt.show()"
   ]
  },
  {
   "cell_type": "markdown",
   "metadata": {},
   "source": [
    "#### 因中央極限定理，當n越大(累加越多指數分配)，gamma分配越近似常態。"
   ]
  },
  {
   "cell_type": "code",
   "execution_count": 5,
   "metadata": {},
   "outputs": [
    {
     "data": {
      "application/vnd.jupyter.widget-view+json": {
       "model_id": "15be1c958baf4d8eba473559e297539c",
       "version_major": 2,
       "version_minor": 0
      },
      "text/plain": [
       "interactive(children=(IntSlider(value=1, description='nn', min=1), Output()), _dom_classes=('widget-interact',…"
      ]
     },
     "metadata": {},
     "output_type": "display_data"
    },
    {
     "data": {
      "text/plain": [
       "<function __main__.gammaToNormal(nn=1)>"
      ]
     },
     "execution_count": 5,
     "metadata": {},
     "output_type": "execute_result"
    }
   ],
   "source": [
    "interact(gammaToNormal,nn = (1,100))"
   ]
  },
  {
   "cell_type": "markdown",
   "metadata": {},
   "source": [
    "## 3.負二項分配的n越大，越近似常態分配驗證\n",
    "#### 負二項分配中的每一次試驗都是一次幾何分配，故n大於1的負二項分配是多個幾何分配相加。"
   ]
  },
  {
   "cell_type": "code",
   "execution_count": 6,
   "metadata": {},
   "outputs": [],
   "source": [
    "def NBToNormal(numOfTrials=1,p_success=0.1):\n",
    "    n = numOfTrials\n",
    "    p = p_success\n",
    "    k = np.arange(int((n/p)*0.06),int((n/p)*2.5)+5)\n",
    "    NB = nbinom.pmf(k,n,p)\n",
    "    \n",
    "    k_continuous = np.linspace(int((n/p)*0.06),int((n/p)*2.5)+5,1000)\n",
    "    \n",
    "    #normal的參數mean及std，用NB得知的參數值進行moment estimate去推估\n",
    "    normal = norm.pdf(k_continuous,loc = n/p , scale = np.sqrt((n*(1-p))/p**2) )\n",
    "    \n",
    "    plt.plot(k+1,NB, '-o',color='orange', label='NB')\n",
    "    \n",
    "    plt.fill_between(k_continuous,normal,facecolor='blue',alpha = 0.3, label='Normal')\n",
    "    \n",
    "    plt.title(f'NB(n={n},p={p}) vs Normal(mean={np.round(n/p,2)},var={np.round((n*(1-p))/p**2,2)})')\n",
    "    plt.legend(loc='upper right')\n",
    "    plt.xlabel('X')\n",
    "    plt.ylabel('probability')\n",
    "    plt.show()"
   ]
  },
  {
   "cell_type": "markdown",
   "metadata": {},
   "source": [
    "#### 因中央極限定理，當n越大(累加越多幾何分配)，負二項分配越近似常態。"
   ]
  },
  {
   "cell_type": "code",
   "execution_count": 7,
   "metadata": {},
   "outputs": [
    {
     "data": {
      "application/vnd.jupyter.widget-view+json": {
       "model_id": "194fb1b669534b74a22b7467e8b470f7",
       "version_major": 2,
       "version_minor": 0
      },
      "text/plain": [
       "interactive(children=(IntSlider(value=1, description='numOfTrials', min=1), FloatSlider(value=0.1, description…"
      ]
     },
     "metadata": {},
     "output_type": "display_data"
    },
    {
     "data": {
      "text/plain": [
       "<function __main__.NBToNormal(numOfTrials=1, p_success=0.1)>"
      ]
     },
     "execution_count": 7,
     "metadata": {},
     "output_type": "execute_result"
    }
   ],
   "source": [
    "interact(NBToNormal,numOfTrials = (1,100),p_success = (0.1,0.9,0.1) )"
   ]
  },
  {
   "cell_type": "markdown",
   "metadata": {},
   "source": [
    "### 由上述三個例子可看見，當Binomial、gamma、負二項分配的n越大，基於中央極限定理，皆會越來越接近常態分佈。"
   ]
  },
  {
   "cell_type": "code",
   "execution_count": null,
   "metadata": {},
   "outputs": [],
   "source": []
  }
 ],
 "metadata": {
  "kernelspec": {
   "display_name": "Python 3",
   "language": "python",
   "name": "python3"
  },
  "language_info": {
   "codemirror_mode": {
    "name": "ipython",
    "version": 3
   },
   "file_extension": ".py",
   "mimetype": "text/x-python",
   "name": "python",
   "nbconvert_exporter": "python",
   "pygments_lexer": "ipython3",
   "version": "3.6.5"
  }
 },
 "nbformat": 4,
 "nbformat_minor": 2
}
