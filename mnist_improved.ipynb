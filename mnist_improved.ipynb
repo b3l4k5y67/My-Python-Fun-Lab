{
 "cells": [
  {
   "cell_type": "code",
   "execution_count": 1,
   "metadata": {},
   "outputs": [
    {
     "name": "stdout",
     "output_type": "stream",
     "text": [
      "env: KERAS_BACKEND=tensorflow\n"
     ]
    }
   ],
   "source": [
    "%env KERAS_BACKEND=tensorflow"
   ]
  },
  {
   "cell_type": "code",
   "execution_count": 2,
   "metadata": {},
   "outputs": [
    {
     "name": "stderr",
     "output_type": "stream",
     "text": [
      "Using TensorFlow backend.\n",
      "C:\\Users\\User\\Anaconda3\\lib\\site-packages\\h5py\\__init__.py:36: FutureWarning: Conversion of the second argument of issubdtype from `float` to `np.floating` is deprecated. In future, it will be treated as `np.float64 == np.dtype(float).type`.\n",
      "  from ._conv import register_converters as _register_converters\n"
     ]
    }
   ],
   "source": [
    "%matplotlib inline\n",
    "import numpy as np\n",
    "import matplotlib.pyplot as plt\n",
    "\n",
    "from keras.datasets import mnist\n",
    "from keras.utils import np_utils"
   ]
  },
  {
   "cell_type": "code",
   "execution_count": 3,
   "metadata": {},
   "outputs": [],
   "source": [
    "(x_train,y_train),(x_test,y_test) = mnist.load_data()"
   ]
  },
  {
   "cell_type": "code",
   "execution_count": 4,
   "metadata": {},
   "outputs": [
    {
     "data": {
      "text/plain": [
       "60000"
      ]
     },
     "execution_count": 4,
     "metadata": {},
     "output_type": "execute_result"
    }
   ],
   "source": [
    "len(x_train) #查看訓練資料數"
   ]
  },
  {
   "cell_type": "code",
   "execution_count": 5,
   "metadata": {},
   "outputs": [
    {
     "data": {
      "text/plain": [
       "10000"
      ]
     },
     "execution_count": 5,
     "metadata": {},
     "output_type": "execute_result"
    }
   ],
   "source": [
    "len(x_test)  #查看測試資料數"
   ]
  },
  {
   "cell_type": "code",
   "execution_count": 6,
   "metadata": {},
   "outputs": [
    {
     "name": "stdout",
     "output_type": "stream",
     "text": [
      "(28, 28)\n"
     ]
    },
    {
     "data": {
      "text/plain": [
       "<matplotlib.image.AxesImage at 0x2687f7cb860>"
      ]
     },
     "execution_count": 6,
     "metadata": {},
     "output_type": "execute_result"
    },
    {
     "data": {
      "image/png": "[encoded data removed]",
      "text/plain": [
       "<Figure size 432x288 with 1 Axes>"
      ]
     },
     "metadata": {},
     "output_type": "display_data"
    }
   ],
   "source": [
    "X = x_train[9487]\n",
    "print(X.shape)\n",
    "plt.imshow(X,cmap='Greys') #秀出9487編號的圖看看"
   ]
  },
  {
   "cell_type": "code",
   "execution_count": 7,
   "metadata": {},
   "outputs": [],
   "source": [
    "x_train = x_train.reshape(60000,784)\n",
    "x_test = x_test.reshape(10000,784)"
   ]
  },
  {
   "cell_type": "code",
   "execution_count": 8,
   "metadata": {},
   "outputs": [
    {
     "name": "stdout",
     "output_type": "stream",
     "text": [
      "(60000, 784)\n",
      "(10000, 784)\n"
     ]
    }
   ],
   "source": [
    "print(x_train.shape)\n",
    "print(x_test.shape) #確認是否reshape成功"
   ]
  },
  {
   "cell_type": "code",
   "execution_count": 9,
   "metadata": {},
   "outputs": [],
   "source": [
    "#進化版模型中對x進行normalize\n",
    "x_train_improved = x_train/x_train.max()\n",
    "x_test_improved = x_test/x_test.max()"
   ]
  },
  {
   "cell_type": "code",
   "execution_count": 10,
   "metadata": {},
   "outputs": [],
   "source": [
    "#對y進行one-hot encoding\n",
    "y_train = np_utils.to_categorical(y_train,10)\n",
    "y_test = np_utils.to_categorical(y_test,10)"
   ]
  },
  {
   "cell_type": "code",
   "execution_count": 11,
   "metadata": {},
   "outputs": [
    {
     "data": {
      "text/plain": [
       "array([0., 1., 0., 0., 0., 0., 0., 0., 0., 0.])"
      ]
     },
     "execution_count": 11,
     "metadata": {},
     "output_type": "execute_result"
    }
   ],
   "source": [
    " y_train[9487]  #查看9487編號的y是否轉換成功"
   ]
  },
  {
   "cell_type": "code",
   "execution_count": 12,
   "metadata": {},
   "outputs": [],
   "source": [
    "#引進模型所需套件\n",
    "from keras.models import Sequential\n",
    "from keras.layers import Dense , Activation\n",
    "from keras.optimizers import SGD,Adam,Adagrad\n",
    "from keras.layers import Dropout"
   ]
  },
  {
   "cell_type": "code",
   "execution_count": 13,
   "metadata": {},
   "outputs": [
    {
     "name": "stdout",
     "output_type": "stream",
     "text": [
      "WARNING:tensorflow:From C:\\Users\\User\\Anaconda3\\lib\\site-packages\\keras\\backend\\tensorflow_backend.py:1123: calling reduce_mean (from tensorflow.python.ops.math_ops) with keep_dims is deprecated and will be removed in a future version.\n",
      "Instructions for updating:\n",
      "keep_dims is deprecated, use keepdims instead\n",
      "_________________________________________________________________\n",
      "Layer (type)                 Output Shape              Param #   \n",
      "=================================================================\n",
      "dense_1 (Dense)              (None, 4)                 3140      \n",
      "_________________________________________________________________\n",
      "activation_1 (Activation)    (None, 4)                 0         \n",
      "_________________________________________________________________\n",
      "dense_2 (Dense)              (None, 2)                 10        \n",
      "_________________________________________________________________\n",
      "activation_2 (Activation)    (None, 2)                 0         \n",
      "_________________________________________________________________\n",
      "dense_3 (Dense)              (None, 10)                30        \n",
      "_________________________________________________________________\n",
      "activation_3 (Activation)    (None, 10)                0         \n",
      "=================================================================\n",
      "Total params: 3,180.0\n",
      "Trainable params: 3,180.0\n",
      "Non-trainable params: 0.0\n",
      "_________________________________________________________________\n"
     ]
    }
   ],
   "source": [
    "#老師原始版model\n",
    "model = Sequential()\n",
    "\n",
    "model.add(Dense(4,input_dim=784)) #第一層:四個神經元\n",
    "model.add(Activation('sigmoid'))\n",
    "\n",
    "model.add(Dense(2)) #第二層:兩個神經元\n",
    "model.add(Activation('sigmoid'))\n",
    "\n",
    "model.add(Dense(10))\n",
    "model.add(Activation('softmax'))\n",
    "\n",
    "model.compile(loss='mse',optimizer=SGD(lr=0.087),metrics=['accuracy'])\n",
    "model.summary()"
   ]
  },
  {
   "cell_type": "code",
   "execution_count": 14,
   "metadata": {
    "scrolled": true
   },
   "outputs": [
    {
     "name": "stdout",
     "output_type": "stream",
     "text": [
      "Epoch 1/20\n",
      "60000/60000 [==============================] - 1s - loss: 0.0903 - acc: 0.1022     \n",
      "Epoch 2/20\n",
      "60000/60000 [==============================] - 1s - loss: 0.0901 - acc: 0.1031     \n",
      "Epoch 3/20\n",
      "60000/60000 [==============================] - 1s - loss: 0.0900 - acc: 0.1552     \n",
      "Epoch 4/20\n",
      "60000/60000 [==============================] - 1s - loss: 0.0898 - acc: 0.1748     \n",
      "Epoch 5/20\n",
      "60000/60000 [==============================] - 1s - loss: 0.0897 - acc: 0.1240     \n",
      "Epoch 6/20\n",
      "60000/60000 [==============================] - 1s - loss: 0.0896 - acc: 0.1124     \n",
      "Epoch 7/20\n",
      "60000/60000 [==============================] - 1s - loss: 0.0895 - acc: 0.1124     \n",
      "Epoch 8/20\n",
      "60000/60000 [==============================] - 1s - loss: 0.0894 - acc: 0.1124     \n",
      "Epoch 9/20\n",
      "60000/60000 [==============================] - 1s - loss: 0.0893 - acc: 0.1124     \n",
      "Epoch 10/20\n",
      "60000/60000 [==============================] - 1s - loss: 0.0892 - acc: 0.1124     \n",
      "Epoch 11/20\n",
      "60000/60000 [==============================] - 1s - loss: 0.0892 - acc: 0.1124     \n",
      "Epoch 12/20\n",
      "60000/60000 [==============================] - 1s - loss: 0.0891 - acc: 0.1124     \n",
      "Epoch 13/20\n",
      "60000/60000 [==============================] - 1s - loss: 0.0890 - acc: 0.1124     \n",
      "Epoch 14/20\n",
      "60000/60000 [==============================] - 1s - loss: 0.0889 - acc: 0.1124     \n",
      "Epoch 15/20\n",
      "60000/60000 [==============================] - 1s - loss: 0.0888 - acc: 0.1124     \n",
      "Epoch 16/20\n",
      "60000/60000 [==============================] - 1s - loss: 0.0887 - acc: 0.1124     \n",
      "Epoch 17/20\n",
      "60000/60000 [==============================] - 1s - loss: 0.0885 - acc: 0.1124     \n",
      "Epoch 18/20\n",
      "60000/60000 [==============================] - 1s - loss: 0.0884 - acc: 0.1124     \n",
      "Epoch 19/20\n",
      "60000/60000 [==============================] - 1s - loss: 0.0883 - acc: 0.1124     \n",
      "Epoch 20/20\n",
      "60000/60000 [==============================] - 1s - loss: 0.0881 - acc: 0.1124     \n"
     ]
    }
   ],
   "source": [
    "#訓練老師原始版model\n",
    "model_his = model.fit(x_train,y_train,batch_size=100,epochs=20) "
   ]
  },
  {
   "cell_type": "code",
   "execution_count": 15,
   "metadata": {},
   "outputs": [
    {
     "name": "stdout",
     "output_type": "stream",
     "text": [
      "WARNING:tensorflow:From C:\\Users\\User\\Anaconda3\\lib\\site-packages\\keras\\backend\\tensorflow_backend.py:2548: calling reduce_sum (from tensorflow.python.ops.math_ops) with keep_dims is deprecated and will be removed in a future version.\n",
      "Instructions for updating:\n",
      "keep_dims is deprecated, use keepdims instead\n",
      "_________________________________________________________________\n",
      "Layer (type)                 Output Shape              Param #   \n",
      "=================================================================\n",
      "dense_4 (Dense)              (None, 20)                15700     \n",
      "_________________________________________________________________\n",
      "activation_4 (Activation)    (None, 20)                0         \n",
      "_________________________________________________________________\n",
      "dense_5 (Dense)              (None, 25)                525       \n",
      "_________________________________________________________________\n",
      "activation_5 (Activation)    (None, 25)                0         \n",
      "_________________________________________________________________\n",
      "dense_6 (Dense)              (None, 20)                520       \n",
      "_________________________________________________________________\n",
      "activation_6 (Activation)    (None, 20)                0         \n",
      "_________________________________________________________________\n",
      "dense_7 (Dense)              (None, 10)                210       \n",
      "_________________________________________________________________\n",
      "activation_7 (Activation)    (None, 10)                0         \n",
      "=================================================================\n",
      "Total params: 16,955.0\n",
      "Trainable params: 16,955.0\n",
      "Non-trainable params: 0.0\n",
      "_________________________________________________________________\n"
     ]
    }
   ],
   "source": [
    "#架設進化版model\n",
    "model_improved = Sequential()\n",
    "\n",
    "model_improved.add(Dense(20,input_dim=784)) #第一層:二十個神經元\n",
    "model_improved.add(Activation('relu'))\n",
    "\n",
    "model_improved.add(Dense(25)) #第二層:二十五個神經元\n",
    "model_improved.add(Activation('relu'))\n",
    "\n",
    "model_improved.add(Dense(20)) #第二層:二十個神經元\n",
    "model_improved.add(Activation('relu'))\n",
    "\n",
    "model_improved.add(Dense(10))\n",
    "model_improved.add(Activation('softmax'))\n",
    "\n",
    "model_improved.compile(loss='categorical_crossentropy',optimizer=Adam(lr=0.001),metrics=['accuracy'])\n",
    "model_improved.summary()"
   ]
  },
  {
   "cell_type": "code",
   "execution_count": 16,
   "metadata": {
    "scrolled": true
   },
   "outputs": [
    {
     "name": "stdout",
     "output_type": "stream",
     "text": [
      "Train on 60000 samples, validate on 10000 samples\n",
      "Epoch 1/20\n",
      "60000/60000 [==============================] - 2s - loss: 0.5767 - acc: 0.8229 - val_loss: 0.2710 - val_acc: 0.9219\n",
      "Epoch 2/20\n",
      "60000/60000 [==============================] - 2s - loss: 0.2396 - acc: 0.9307 - val_loss: 0.2175 - val_acc: 0.9368\n",
      "Epoch 3/20\n",
      "60000/60000 [==============================] - 1s - loss: 0.1985 - acc: 0.9424 - val_loss: 0.1830 - val_acc: 0.9438\n",
      "Epoch 4/20\n",
      "60000/60000 [==============================] - 1s - loss: 0.1745 - acc: 0.9491 - val_loss: 0.1727 - val_acc: 0.9491\n",
      "Epoch 5/20\n",
      "60000/60000 [==============================] - 1s - loss: 0.1578 - acc: 0.9543 - val_loss: 0.1604 - val_acc: 0.9522\n",
      "Epoch 6/20\n",
      "60000/60000 [==============================] - 1s - loss: 0.1456 - acc: 0.9575 - val_loss: 0.1607 - val_acc: 0.9527\n",
      "Epoch 7/20\n",
      "60000/60000 [==============================] - 1s - loss: 0.1350 - acc: 0.9599 - val_loss: 0.1553 - val_acc: 0.9525\n",
      "Epoch 8/20\n",
      "60000/60000 [==============================] - 1s - loss: 0.1261 - acc: 0.9630 - val_loss: 0.1479 - val_acc: 0.9574\n",
      "Epoch 9/20\n",
      "60000/60000 [==============================] - 1s - loss: 0.1194 - acc: 0.9647 - val_loss: 0.1521 - val_acc: 0.9560\n",
      "Epoch 10/20\n",
      "60000/60000 [==============================] - 1s - loss: 0.1140 - acc: 0.9661 - val_loss: 0.1497 - val_acc: 0.9551\n",
      "Epoch 11/20\n",
      "60000/60000 [==============================] - 1s - loss: 0.1087 - acc: 0.9672 - val_loss: 0.1464 - val_acc: 0.9579\n",
      "Epoch 12/20\n",
      "60000/60000 [==============================] - 2s - loss: 0.1042 - acc: 0.9689 - val_loss: 0.1412 - val_acc: 0.9600\n",
      "Epoch 13/20\n",
      "60000/60000 [==============================] - 2s - loss: 0.0991 - acc: 0.9702 - val_loss: 0.1369 - val_acc: 0.9598\n",
      "Epoch 14/20\n",
      "60000/60000 [==============================] - 1s - loss: 0.0967 - acc: 0.9705 - val_loss: 0.1448 - val_acc: 0.9588\n",
      "Epoch 15/20\n",
      "60000/60000 [==============================] - 1s - loss: 0.0915 - acc: 0.9727 - val_loss: 0.1438 - val_acc: 0.9584\n",
      "Epoch 16/20\n",
      "60000/60000 [==============================] - 2s - loss: 0.0892 - acc: 0.9734 - val_loss: 0.1382 - val_acc: 0.9620\n",
      "Epoch 17/20\n",
      "60000/60000 [==============================] - 1s - loss: 0.0871 - acc: 0.9733 - val_loss: 0.1444 - val_acc: 0.9600\n",
      "Epoch 18/20\n",
      "60000/60000 [==============================] - 1s - loss: 0.0844 - acc: 0.9738 - val_loss: 0.1334 - val_acc: 0.9632\n",
      "Epoch 19/20\n",
      "60000/60000 [==============================] - 1s - loss: 0.0816 - acc: 0.9749 - val_loss: 0.1371 - val_acc: 0.9618\n",
      "Epoch 20/20\n",
      "60000/60000 [==============================] - 1s - loss: 0.0771 - acc: 0.9769 - val_loss: 0.1408 - val_acc: 0.9633\n"
     ]
    }
   ],
   "source": [
    "#訓練進化版model\n",
    "model_improved_his = model_improved.fit(x_train_improved,y_train,batch_size=100,epochs=20,verbose = 1,validation_data = (x_test_improved,y_test)) "
   ]
  },
  {
   "cell_type": "code",
   "execution_count": 17,
   "metadata": {},
   "outputs": [],
   "source": [
    "from ipywidgets import interact_manual"
   ]
  },
  {
   "cell_type": "code",
   "execution_count": 18,
   "metadata": {},
   "outputs": [
    {
     "name": "stdout",
     "output_type": "stream",
     "text": [
      " 7328/10000 [====================>.........] - ETA: 0s"
     ]
    }
   ],
   "source": [
    "predict = model.predict_classes(x_test)"
   ]
  },
  {
   "cell_type": "code",
   "execution_count": 19,
   "metadata": {},
   "outputs": [
    {
     "name": "stdout",
     "output_type": "stream",
     "text": [
      " 9504/10000 [===========================>..] - ETA: 0s"
     ]
    }
   ],
   "source": [
    "predict_improved = model_improved.predict_classes(x_test)"
   ]
  },
  {
   "cell_type": "code",
   "execution_count": 20,
   "metadata": {},
   "outputs": [],
   "source": [
    "def test(測試編號):\n",
    "    plt.imshow(x_test[測試編號].reshape(28,28),cmap='Greys')\n",
    "    print('神經網路判斷為:',predict[測試編號])"
   ]
  },
  {
   "cell_type": "code",
   "execution_count": 21,
   "metadata": {},
   "outputs": [],
   "source": [
    "def test_improved(測試編號):\n",
    "    plt.imshow(x_test[測試編號].reshape(28,28),cmap='Greys')\n",
    "    print('神經網路判斷為:',predict_improved[測試編號])"
   ]
  },
  {
   "cell_type": "code",
   "execution_count": 22,
   "metadata": {},
   "outputs": [
    {
     "data": {
      "application/vnd.jupyter.widget-view+json": {
       "model_id": "8116c41d3cb24bf6b1382f33724435f0",
       "version_major": 2,
       "version_minor": 0
      },
      "text/plain": [
       "interactive(children=(IntSlider(value=4999, description='測試編號', max=9999), Button(description='Run Interact', …"
      ]
     },
     "metadata": {},
     "output_type": "display_data"
    },
    {
     "data": {
      "text/plain": [
       "<function __main__.test(測試編號)>"
      ]
     },
     "execution_count": 22,
     "metadata": {},
     "output_type": "execute_result"
    }
   ],
   "source": [
    "interact_manual(test,測試編號 = (0,9999))"
   ]
  },
  {
   "cell_type": "code",
   "execution_count": 23,
   "metadata": {},
   "outputs": [
    {
     "data": {
      "application/vnd.jupyter.widget-view+json": {
       "model_id": "ef4c620b52b04edf8e7c44552188fdc8",
       "version_major": 2,
       "version_minor": 0
      },
      "text/plain": [
       "interactive(children=(IntSlider(value=4999, description='測試編號', max=9999), Button(description='Run Interact', …"
      ]
     },
     "metadata": {},
     "output_type": "display_data"
    },
    {
     "data": {
      "text/plain": [
       "<function __main__.test_improved(測試編號)>"
      ]
     },
     "execution_count": 23,
     "metadata": {},
     "output_type": "execute_result"
    }
   ],
   "source": [
    "interact_manual(test_improved,測試編號 = (0,9999))"
   ]
  },
  {
   "cell_type": "code",
   "execution_count": 24,
   "metadata": {},
   "outputs": [
    {
     "name": "stdout",
     "output_type": "stream",
     "text": [
      " 9184/10000 [==========================>...] - ETA: 0s-----------老師版-----------\n",
      "loss:0.08798681131601334\n",
      "正確率:0.1135\n",
      "-----------進化版-----------\n",
      "loss:0.1407874954157509\n",
      "正確率:0.9633\n"
     ]
    }
   ],
   "source": [
    "score = model.evaluate(x_test,y_test)\n",
    "score_improved = model_improved.evaluate(x_test_improved,y_test)\n",
    "\n",
    "print('-----------老師版-----------')\n",
    "print(f'loss:{score[0]}')\n",
    "print(f'正確率:{score[1]}')\n",
    "\n",
    "print('-----------進化版-----------')\n",
    "print(f'loss:{score_improved[0]}')\n",
    "print(f'正確率:{score_improved[1]}')"
   ]
  },
  {
   "cell_type": "code",
   "execution_count": 25,
   "metadata": {},
   "outputs": [
    {
     "data": {
      "text/plain": [
       "<function matplotlib.pyplot.show(*args, **kw)>"
      ]
     },
     "execution_count": 25,
     "metadata": {},
     "output_type": "execute_result"
    },
    {
     "data": {
      "image/png": "[encoded data removed]",
      "text/plain": [
       "<Figure size 432x288 with 1 Axes>"
      ]
     },
     "metadata": {},
     "output_type": "display_data"
    }
   ],
   "source": [
    "plt.plot(model_his.history['acc'])\n",
    "plt.plot(model_improved_his.history[\"acc\"])\n",
    "\n",
    "plt.title('model training accuracy')\n",
    "plt.ylabel('accuracy')\n",
    "plt.xlabel('epoch')\n",
    "plt.legend([\"model\",\"model_improved\"],loc = \"best\")\n",
    "plt.show"
   ]
  },
  {
   "cell_type": "markdown",
   "metadata": {},
   "source": [
    "### 心得:\n",
    "#### 改良model的過程中，首先調整了activation function成relu，並將loss function改成categorical_crossentropy，而優化器則是Adam，在這樣的設定下發現效果會高於老師的原始模型，但準確率卻會在80幾快90的時候無法再提升，即使epoch調到500，準確率也高不上去了。\n",
    "#### 後來猜想是因為模型的learning太高，造成loss無法繼續收斂，便將learning rate調低，並將layer的神經元增加。\n",
    "#### 結果validation的準確率竟能夠在個位數的epoch就高達九十幾!"
   ]
  },
  {
   "cell_type": "code",
   "execution_count": null,
   "metadata": {},
   "outputs": [],
   "source": []
  }
 ],
 "metadata": {
  "kernelspec": {
   "display_name": "Python 3",
   "language": "python",
   "name": "python3"
  },
  "language_info": {
   "codemirror_mode": {
    "name": "ipython",
    "version": 3
   },
   "file_extension": ".py",
   "mimetype": "text/x-python",
   "name": "python",
   "nbconvert_exporter": "python",
   "pygments_lexer": "ipython3",
   "version": "3.6.5"
  }
 },
 "nbformat": 4,
 "nbformat_minor": 2
}
